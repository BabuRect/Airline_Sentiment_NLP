{
 "cells": [
  {
   "cell_type": "code",
   "execution_count": 1,
   "id": "armed-treasure",
   "metadata": {},
   "outputs": [
    {
     "name": "stdout",
     "output_type": "stream",
     "text": [
      "Requirement already satisfied: nltk in c:\\users\\babdulsa\\anaconda3\\envs\\tensolflow_env\\lib\\site-packages (3.5)\n",
      "Requirement already satisfied: click in c:\\users\\babdulsa\\anaconda3\\envs\\tensolflow_env\\lib\\site-packages (from nltk) (7.1.2)\n",
      "Requirement already satisfied: joblib in c:\\users\\babdulsa\\anaconda3\\envs\\tensolflow_env\\lib\\site-packages (from nltk) (1.0.0)\n",
      "Requirement already satisfied: tqdm in c:\\users\\babdulsa\\anaconda3\\envs\\tensolflow_env\\lib\\site-packages (from nltk) (4.58.0)\n",
      "Requirement already satisfied: regex in c:\\users\\babdulsa\\anaconda3\\envs\\tensolflow_env\\lib\\site-packages (from nltk) (2020.11.13)\n"
     ]
    }
   ],
   "source": [
    "!pip install nltk"
   ]
  },
  {
   "cell_type": "code",
   "execution_count": 2,
   "id": "cheap-bristol",
   "metadata": {},
   "outputs": [
    {
     "name": "stdout",
     "output_type": "stream",
     "text": [
      "Requirement already satisfied: contractions in c:\\users\\babdulsa\\anaconda3\\envs\\tensolflow_env\\lib\\site-packages (0.0.48)\n",
      "Requirement already satisfied: textsearch>=0.0.21 in c:\\users\\babdulsa\\anaconda3\\envs\\tensolflow_env\\lib\\site-packages (from contractions) (0.0.21)\n",
      "Requirement already satisfied: pyahocorasick in c:\\users\\babdulsa\\anaconda3\\envs\\tensolflow_env\\lib\\site-packages (from textsearch>=0.0.21->contractions) (1.4.1)\n",
      "Requirement already satisfied: anyascii in c:\\users\\babdulsa\\anaconda3\\envs\\tensolflow_env\\lib\\site-packages (from textsearch>=0.0.21->contractions) (0.1.7)\n"
     ]
    }
   ],
   "source": [
    "!pip install contractions"
   ]
  },
  {
   "cell_type": "code",
   "execution_count": 3,
   "id": "imported-stopping",
   "metadata": {},
   "outputs": [
    {
     "name": "stdout",
     "output_type": "stream",
     "text": [
      "showing info https://raw.githubusercontent.com/nltk/nltk_data/gh-pages/index.xml\n"
     ]
    },
    {
     "name": "stderr",
     "output_type": "stream",
     "text": [
      "[nltk_data] Downloading package stopwords to\n",
      "[nltk_data]     C:\\Users\\babdulsa\\AppData\\Roaming\\nltk_data...\n",
      "[nltk_data]   Package stopwords is already up-to-date!\n"
     ]
    },
    {
     "data": {
      "text/plain": [
       "True"
      ]
     },
     "execution_count": 3,
     "metadata": {},
     "output_type": "execute_result"
    }
   ],
   "source": [
    "import nltk\n",
    "nltk.download()\n",
    "nltk.download('stopwords')  "
   ]
  },
  {
   "cell_type": "markdown",
   "id": "figured-precipitation",
   "metadata": {},
   "source": [
    "## 1.a Import Libraries"
   ]
  },
  {
   "cell_type": "code",
   "execution_count": 4,
   "id": "possible-specific",
   "metadata": {},
   "outputs": [],
   "source": [
    "import numpy as np\n",
    "import pandas as pd\n",
    "\n",
    "import matplotlib.pyplot as plot\n",
    "%matplotlib inline\n",
    "\n",
    "# Seaborn\n",
    "import seaborn as sns\n",
    "\n",
    "from bs4 import BeautifulSoup\n",
    "import re, string, unicodedata\n",
    "import contractions\n",
    "from nltk.stem.wordnet import WordNetLemmatizer\n",
    "from nltk.corpus import stopwords  \n",
    "from sklearn.metrics import confusion_matrix,classification_report\n",
    "from sklearn.preprocessing import LabelEncoder"
   ]
  },
  {
   "cell_type": "markdown",
   "id": "understanding-network",
   "metadata": {},
   "source": [
    "## 1.b Load dataset and print shape"
   ]
  },
  {
   "cell_type": "code",
   "execution_count": 5,
   "id": "aggregate-robin",
   "metadata": {},
   "outputs": [
    {
     "data": {
      "text/plain": [
       "(14640, 15)"
      ]
     },
     "execution_count": 5,
     "metadata": {},
     "output_type": "execute_result"
    }
   ],
   "source": [
    "#import the tweets csv file\n",
    "tweets_df = pd.read_csv(\"Tweets.csv\")\n",
    "\n",
    "# Check the size of records\n",
    "tweets_df.shape"
   ]
  },
  {
   "cell_type": "markdown",
   "id": "incorporate-briefs",
   "metadata": {},
   "source": [
    "## 1.c Description of data"
   ]
  },
  {
   "cell_type": "code",
   "execution_count": 6,
   "id": "operational-elephant",
   "metadata": {},
   "outputs": [
    {
     "data": {
      "text/html": [
       "<div>\n",
       "<style scoped>\n",
       "    .dataframe tbody tr th:only-of-type {\n",
       "        vertical-align: middle;\n",
       "    }\n",
       "\n",
       "    .dataframe tbody tr th {\n",
       "        vertical-align: top;\n",
       "    }\n",
       "\n",
       "    .dataframe thead th {\n",
       "        text-align: right;\n",
       "    }\n",
       "</style>\n",
       "<table border=\"1\" class=\"dataframe\">\n",
       "  <thead>\n",
       "    <tr style=\"text-align: right;\">\n",
       "      <th></th>\n",
       "      <th>tweet_id</th>\n",
       "      <th>airline_sentiment_confidence</th>\n",
       "      <th>negativereason_confidence</th>\n",
       "      <th>retweet_count</th>\n",
       "    </tr>\n",
       "  </thead>\n",
       "  <tbody>\n",
       "    <tr>\n",
       "      <th>count</th>\n",
       "      <td>1.464000e+04</td>\n",
       "      <td>14640.000000</td>\n",
       "      <td>10522.000000</td>\n",
       "      <td>14640.000000</td>\n",
       "    </tr>\n",
       "    <tr>\n",
       "      <th>mean</th>\n",
       "      <td>5.692184e+17</td>\n",
       "      <td>0.900169</td>\n",
       "      <td>0.638298</td>\n",
       "      <td>0.082650</td>\n",
       "    </tr>\n",
       "    <tr>\n",
       "      <th>std</th>\n",
       "      <td>7.791112e+14</td>\n",
       "      <td>0.162830</td>\n",
       "      <td>0.330440</td>\n",
       "      <td>0.745778</td>\n",
       "    </tr>\n",
       "    <tr>\n",
       "      <th>min</th>\n",
       "      <td>5.675883e+17</td>\n",
       "      <td>0.335000</td>\n",
       "      <td>0.000000</td>\n",
       "      <td>0.000000</td>\n",
       "    </tr>\n",
       "    <tr>\n",
       "      <th>25%</th>\n",
       "      <td>5.685592e+17</td>\n",
       "      <td>0.692300</td>\n",
       "      <td>0.360600</td>\n",
       "      <td>0.000000</td>\n",
       "    </tr>\n",
       "    <tr>\n",
       "      <th>50%</th>\n",
       "      <td>5.694779e+17</td>\n",
       "      <td>1.000000</td>\n",
       "      <td>0.670600</td>\n",
       "      <td>0.000000</td>\n",
       "    </tr>\n",
       "    <tr>\n",
       "      <th>75%</th>\n",
       "      <td>5.698905e+17</td>\n",
       "      <td>1.000000</td>\n",
       "      <td>1.000000</td>\n",
       "      <td>0.000000</td>\n",
       "    </tr>\n",
       "    <tr>\n",
       "      <th>max</th>\n",
       "      <td>5.703106e+17</td>\n",
       "      <td>1.000000</td>\n",
       "      <td>1.000000</td>\n",
       "      <td>44.000000</td>\n",
       "    </tr>\n",
       "  </tbody>\n",
       "</table>\n",
       "</div>"
      ],
      "text/plain": [
       "           tweet_id  airline_sentiment_confidence  negativereason_confidence  \\\n",
       "count  1.464000e+04                  14640.000000               10522.000000   \n",
       "mean   5.692184e+17                      0.900169                   0.638298   \n",
       "std    7.791112e+14                      0.162830                   0.330440   \n",
       "min    5.675883e+17                      0.335000                   0.000000   \n",
       "25%    5.685592e+17                      0.692300                   0.360600   \n",
       "50%    5.694779e+17                      1.000000                   0.670600   \n",
       "75%    5.698905e+17                      1.000000                   1.000000   \n",
       "max    5.703106e+17                      1.000000                   1.000000   \n",
       "\n",
       "       retweet_count  \n",
       "count   14640.000000  \n",
       "mean        0.082650  \n",
       "std         0.745778  \n",
       "min         0.000000  \n",
       "25%         0.000000  \n",
       "50%         0.000000  \n",
       "75%         0.000000  \n",
       "max        44.000000  "
      ]
     },
     "execution_count": 6,
     "metadata": {},
     "output_type": "execute_result"
    }
   ],
   "source": [
    "# description of data\n",
    "tweets_df.describe()"
   ]
  },
  {
   "cell_type": "markdown",
   "id": "positive-couple",
   "metadata": {},
   "source": [
    "### Analyse the data"
   ]
  },
  {
   "cell_type": "code",
   "execution_count": 7,
   "id": "static-battery",
   "metadata": {},
   "outputs": [
    {
     "name": "stdout",
     "output_type": "stream",
     "text": [
      "<class 'pandas.core.frame.DataFrame'>\n",
      "RangeIndex: 14640 entries, 0 to 14639\n",
      "Data columns (total 15 columns):\n",
      " #   Column                        Non-Null Count  Dtype  \n",
      "---  ------                        --------------  -----  \n",
      " 0   tweet_id                      14640 non-null  int64  \n",
      " 1   airline_sentiment             14640 non-null  object \n",
      " 2   airline_sentiment_confidence  14640 non-null  float64\n",
      " 3   negativereason                9178 non-null   object \n",
      " 4   negativereason_confidence     10522 non-null  float64\n",
      " 5   airline                       14640 non-null  object \n",
      " 6   airline_sentiment_gold        40 non-null     object \n",
      " 7   name                          14640 non-null  object \n",
      " 8   negativereason_gold           32 non-null     object \n",
      " 9   retweet_count                 14640 non-null  int64  \n",
      " 10  text                          14640 non-null  object \n",
      " 11  tweet_coord                   1019 non-null   object \n",
      " 12  tweet_created                 14640 non-null  object \n",
      " 13  tweet_location                9907 non-null   object \n",
      " 14  user_timezone                 9820 non-null   object \n",
      "dtypes: float64(2), int64(2), object(11)\n",
      "memory usage: 1.7+ MB\n"
     ]
    }
   ],
   "source": [
    "tweets_df.info()"
   ]
  },
  {
   "cell_type": "code",
   "execution_count": 8,
   "id": "fundamental-horizontal",
   "metadata": {},
   "outputs": [
    {
     "data": {
      "text/plain": [
       "United            3822\n",
       "US Airways        2913\n",
       "American          2759\n",
       "Southwest         2420\n",
       "Delta             2222\n",
       "Virgin America     504\n",
       "Name: airline, dtype: int64"
      ]
     },
     "execution_count": 8,
     "metadata": {},
     "output_type": "execute_result"
    }
   ],
   "source": [
    "# value counts\n",
    "tweets_df.airline.value_counts()"
   ]
  },
  {
   "cell_type": "code",
   "execution_count": 9,
   "id": "actual-institution",
   "metadata": {},
   "outputs": [
    {
     "data": {
      "text/plain": [
       "<AxesSubplot:xlabel='airline', ylabel='count'>"
      ]
     },
     "execution_count": 9,
     "metadata": {},
     "output_type": "execute_result"
    },
    {
     "data": {
      "image/png": "[encoded data removed]",
      "text/plain": [
       "<Figure size 432x288 with 1 Axes>"
      ]
     },
     "metadata": {
      "needs_background": "light"
     },
     "output_type": "display_data"
    }
   ],
   "source": [
    "sns.countplot(x='airline',data=tweets_df)"
   ]
  },
  {
   "cell_type": "code",
   "execution_count": 10,
   "id": "musical-employee",
   "metadata": {},
   "outputs": [
    {
     "data": {
      "text/plain": [
       "negative    9178\n",
       "neutral     3099\n",
       "positive    2363\n",
       "Name: airline_sentiment, dtype: int64"
      ]
     },
     "execution_count": 10,
     "metadata": {},
     "output_type": "execute_result"
    }
   ],
   "source": [
    "# Sentiment count and plot\n",
    "tweets_df.airline_sentiment.value_counts()"
   ]
  },
  {
   "cell_type": "code",
   "execution_count": 11,
   "id": "african-response",
   "metadata": {},
   "outputs": [
    {
     "data": {
      "text/plain": [
       "<AxesSubplot:xlabel='airline_sentiment', ylabel='count'>"
      ]
     },
     "execution_count": 11,
     "metadata": {},
     "output_type": "execute_result"
    },
    {
     "data": {
      "image/png": "[encoded data removed]",
      "text/plain": [
       "<Figure size 432x288 with 1 Axes>"
      ]
     },
     "metadata": {
      "needs_background": "light"
     },
     "output_type": "display_data"
    }
   ],
   "source": [
    "sns.countplot(x='airline_sentiment',data=tweets_df)"
   ]
  },
  {
   "cell_type": "markdown",
   "id": "thirty-unknown",
   "metadata": {},
   "source": [
    "### 2.a Drop all the columns except sentiment and text"
   ]
  },
  {
   "cell_type": "code",
   "execution_count": 12,
   "id": "likely-perception",
   "metadata": {},
   "outputs": [],
   "source": [
    "pd.set_option(\"max_colwidth\", 250)\n",
    "tweets_df = tweets_df.loc[ :,['airline_sentiment','text']]\n"
   ]
  },
  {
   "cell_type": "markdown",
   "id": "daily-correlation",
   "metadata": {},
   "source": [
    "### 2.b Check Shape of the data"
   ]
  },
  {
   "cell_type": "code",
   "execution_count": 13,
   "id": "smooth-scholarship",
   "metadata": {},
   "outputs": [
    {
     "data": {
      "text/plain": [
       "(14640, 2)"
      ]
     },
     "execution_count": 13,
     "metadata": {},
     "output_type": "execute_result"
    }
   ],
   "source": [
    "tweets_df.shape"
   ]
  },
  {
   "cell_type": "markdown",
   "id": "disturbed-pulse",
   "metadata": {},
   "source": [
    "### 2.c Print first 5 rows"
   ]
  },
  {
   "cell_type": "code",
   "execution_count": 14,
   "id": "endless-shooting",
   "metadata": {},
   "outputs": [
    {
     "data": {
      "text/html": [
       "<div>\n",
       "<style scoped>\n",
       "    .dataframe tbody tr th:only-of-type {\n",
       "        vertical-align: middle;\n",
       "    }\n",
       "\n",
       "    .dataframe tbody tr th {\n",
       "        vertical-align: top;\n",
       "    }\n",
       "\n",
       "    .dataframe thead th {\n",
       "        text-align: right;\n",
       "    }\n",
       "</style>\n",
       "<table border=\"1\" class=\"dataframe\">\n",
       "  <thead>\n",
       "    <tr style=\"text-align: right;\">\n",
       "      <th></th>\n",
       "      <th>airline_sentiment</th>\n",
       "      <th>text</th>\n",
       "    </tr>\n",
       "  </thead>\n",
       "  <tbody>\n",
       "    <tr>\n",
       "      <th>0</th>\n",
       "      <td>neutral</td>\n",
       "      <td>@VirginAmerica What @dhepburn said.</td>\n",
       "    </tr>\n",
       "    <tr>\n",
       "      <th>1</th>\n",
       "      <td>positive</td>\n",
       "      <td>@VirginAmerica plus you've added commercials to the experience... tacky.</td>\n",
       "    </tr>\n",
       "    <tr>\n",
       "      <th>2</th>\n",
       "      <td>neutral</td>\n",
       "      <td>@VirginAmerica I didn't today... Must mean I need to take another trip!</td>\n",
       "    </tr>\n",
       "    <tr>\n",
       "      <th>3</th>\n",
       "      <td>negative</td>\n",
       "      <td>@VirginAmerica it's really aggressive to blast obnoxious \"entertainment\" in your guests' faces &amp;amp; they have little recourse</td>\n",
       "    </tr>\n",
       "    <tr>\n",
       "      <th>4</th>\n",
       "      <td>negative</td>\n",
       "      <td>@VirginAmerica and it's a really big bad thing about it</td>\n",
       "    </tr>\n",
       "  </tbody>\n",
       "</table>\n",
       "</div>"
      ],
      "text/plain": [
       "  airline_sentiment  \\\n",
       "0           neutral   \n",
       "1          positive   \n",
       "2           neutral   \n",
       "3          negative   \n",
       "4          negative   \n",
       "\n",
       "                                                                                                                             text  \n",
       "0                                                                                             @VirginAmerica What @dhepburn said.  \n",
       "1                                                        @VirginAmerica plus you've added commercials to the experience... tacky.  \n",
       "2                                                         @VirginAmerica I didn't today... Must mean I need to take another trip!  \n",
       "3  @VirginAmerica it's really aggressive to blast obnoxious \"entertainment\" in your guests' faces &amp; they have little recourse  \n",
       "4                                                                         @VirginAmerica and it's a really big bad thing about it  "
      ]
     },
     "execution_count": 14,
     "metadata": {},
     "output_type": "execute_result"
    }
   ],
   "source": [
    "tweets_df.head()"
   ]
  },
  {
   "cell_type": "markdown",
   "id": "greater-worthy",
   "metadata": {},
   "source": [
    "### 3. Functions to do the text pre-processing"
   ]
  },
  {
   "cell_type": "markdown",
   "id": "accessible-worry",
   "metadata": {},
   "source": [
    "#### 3.a) HTML Tag removal"
   ]
  },
  {
   "cell_type": "code",
   "execution_count": 15,
   "id": "grateful-sleeve",
   "metadata": {},
   "outputs": [],
   "source": [
    "# Function to remove html tags\n",
    "def Remove_Html_Tags(text):\n",
    "    bsoup = BeautifulSoup(text,\"html.parser\")\n",
    "    return bsoup.get_text()"
   ]
  },
  {
   "cell_type": "markdown",
   "id": "confirmed-excitement",
   "metadata": {},
   "source": [
    "#### 3.b) Tokenize"
   ]
  },
  {
   "cell_type": "code",
   "execution_count": 16,
   "id": "anonymous-commonwealth",
   "metadata": {},
   "outputs": [],
   "source": [
    "# Tokenize the sentence\n",
    "import nltk\n",
    "def Tokenize_Sentence(text):\n",
    "    return nltk.word_tokenize(text)"
   ]
  },
  {
   "cell_type": "markdown",
   "id": "protected-groove",
   "metadata": {},
   "source": [
    "#### 3.c) Number removal"
   ]
  },
  {
   "cell_type": "code",
   "execution_count": 17,
   "id": "alternate-twelve",
   "metadata": {},
   "outputs": [],
   "source": [
    "# Function to remove the numbers\n",
    "def Remove_Numbers(text):\n",
    "    text = re.sub(r'\\d+','', text)\n",
    "    return text"
   ]
  },
  {
   "cell_type": "markdown",
   "id": "allied-spanish",
   "metadata": {},
   "source": [
    "#### 3.d) Remove special characters and punctuations"
   ]
  },
  {
   "cell_type": "code",
   "execution_count": 18,
   "id": "impressive-ticket",
   "metadata": {},
   "outputs": [],
   "source": [
    "# Function to remove the contractions\n",
    "def Replace_contractions(text):\n",
    "        return(contractions.fix(text))"
   ]
  },
  {
   "cell_type": "code",
   "execution_count": 19,
   "id": "dated-estimate",
   "metadata": {},
   "outputs": [],
   "source": [
    "# Function to remove special characters\n",
    "def Remove_SpecialChars(text):\n",
    "    words = re.sub(r'[^a-zA-Z0-9_\\s]+', '', text)\n",
    "    return words"
   ]
  },
  {
   "cell_type": "code",
   "execution_count": 20,
   "id": "efficient-affiliation",
   "metadata": {},
   "outputs": [],
   "source": [
    "# Function to remove special characters\n",
    "def Remove_nonascii_Chars(words):\n",
    "    new_words = []\n",
    "    for word in words:\n",
    "        new_word = unicodedata.normalize('NFKD', word).encode('ascii', 'ignore').decode('utf-8', 'ignore')\n",
    "        new_words.append(new_word)\n",
    "    return new_words\n",
    "    "
   ]
  },
  {
   "cell_type": "code",
   "execution_count": 21,
   "id": "downtown-fiction",
   "metadata": {},
   "outputs": [],
   "source": [
    "# Function to remove the punctuations\n",
    "def Remove_punctuation(words):\n",
    "    new_words = []\n",
    "    for word in words:\n",
    "        new_word = re.sub(r'[^\\w\\s]', '', word)\n",
    "        if new_word != '':\n",
    "            new_words.append(new_word)\n",
    "    return new_words"
   ]
  },
  {
   "cell_type": "markdown",
   "id": "working-pilot",
   "metadata": {},
   "source": [
    "#### 3.e) Convert to lower case"
   ]
  },
  {
   "cell_type": "code",
   "execution_count": 22,
   "id": "romance-feelings",
   "metadata": {},
   "outputs": [],
   "source": [
    "# Function to convert to lowercase\n",
    "def Convert_to_lowercase(words):\n",
    "    new_words = []\n",
    "    for word in words:\n",
    "        newword = word.lower()\n",
    "        new_words.append(newword)\n",
    "    return new_words\n"
   ]
  },
  {
   "cell_type": "markdown",
   "id": "strategic-cholesterol",
   "metadata": {},
   "source": [
    "#### 3.f) Lemmatize"
   ]
  },
  {
   "cell_type": "code",
   "execution_count": 23,
   "id": "imposed-jimmy",
   "metadata": {},
   "outputs": [],
   "source": [
    "# Lemmatize the given wors\n",
    "def Lemmatize_words(words):\n",
    "    lemmatizer = WordNetLemmatizer()\n",
    "    lemmas = []                           \n",
    "    for word in words:\n",
    "        lemma = lemmatizer.lemmatize(word, pos='v')\n",
    "        lemmas.append(lemma)             \n",
    "    return lemmas"
   ]
  },
  {
   "cell_type": "code",
   "execution_count": 24,
   "id": "material-chancellor",
   "metadata": {},
   "outputs": [],
   "source": [
    "# Remove stop words\n",
    "stopwords = stopwords.words('english')\n",
    "def Remove_Stopwords(words):\n",
    "    new_words = []\n",
    "    for word in words:\n",
    "        if word not in stopwords:\n",
    "            new_words.append(word)\n",
    "    return new_words"
   ]
  },
  {
   "cell_type": "markdown",
   "id": "small-routine",
   "metadata": {},
   "source": [
    "###  Normalize the words by doing all preprocessing"
   ]
  },
  {
   "cell_type": "code",
   "execution_count": 25,
   "id": "wrong-calculator",
   "metadata": {},
   "outputs": [],
   "source": [
    "def Normalize_words(words):       \n",
    "    #1. Replance non-ascii chars\n",
    "    words = Remove_nonascii_Chars(words)    \n",
    "   \n",
    "    #2. Remove punctuations\n",
    "    words = Remove_punctuation(words)\n",
    "    \n",
    "    #3. convert to lowercase\n",
    "    words = Convert_to_lowercase(words)\n",
    "    \n",
    "    #4. Remove stop words\n",
    "    words = Remove_Stopwords(words)\n",
    "    \n",
    "    #5. lemmataize words\n",
    "    words = Lemmatize_words(words)\n",
    "    \n",
    "    return ' '.join(words)\n"
   ]
  },
  {
   "cell_type": "markdown",
   "id": "executive-industry",
   "metadata": {},
   "source": [
    "### Preprocess the sentences"
   ]
  },
  {
   "cell_type": "code",
   "execution_count": 26,
   "id": "little-concord",
   "metadata": {},
   "outputs": [],
   "source": [
    "def SentenceLevel_PreProcessing(text):\n",
    "    text   = Remove_Html_Tags(text)\n",
    "    text   = Replace_contractions(text)\n",
    "    text   = Remove_SpecialChars(text)\n",
    "    text   = Remove_Numbers(text)\n",
    "    words  = Tokenize_Sentence(text)\n",
    "    return words"
   ]
  },
  {
   "cell_type": "code",
   "execution_count": 27,
   "id": "alone-wealth",
   "metadata": {},
   "outputs": [
    {
     "data": {
      "text/html": [
       "<div>\n",
       "<style scoped>\n",
       "    .dataframe tbody tr th:only-of-type {\n",
       "        vertical-align: middle;\n",
       "    }\n",
       "\n",
       "    .dataframe tbody tr th {\n",
       "        vertical-align: top;\n",
       "    }\n",
       "\n",
       "    .dataframe thead th {\n",
       "        text-align: right;\n",
       "    }\n",
       "</style>\n",
       "<table border=\"1\" class=\"dataframe\">\n",
       "  <thead>\n",
       "    <tr style=\"text-align: right;\">\n",
       "      <th></th>\n",
       "      <th>airline_sentiment</th>\n",
       "      <th>text</th>\n",
       "    </tr>\n",
       "  </thead>\n",
       "  <tbody>\n",
       "    <tr>\n",
       "      <th>0</th>\n",
       "      <td>neutral</td>\n",
       "      <td>virginamerica dhepburn say</td>\n",
       "    </tr>\n",
       "    <tr>\n",
       "      <th>1</th>\n",
       "      <td>positive</td>\n",
       "      <td>virginamerica plus add commercials experience tacky</td>\n",
       "    </tr>\n",
       "    <tr>\n",
       "      <th>2</th>\n",
       "      <td>neutral</td>\n",
       "      <td>virginamerica today must mean need take another trip</td>\n",
       "    </tr>\n",
       "    <tr>\n",
       "      <th>3</th>\n",
       "      <td>negative</td>\n",
       "      <td>virginamerica really aggressive blast obnoxious entertainment guests face little recourse</td>\n",
       "    </tr>\n",
       "    <tr>\n",
       "      <th>4</th>\n",
       "      <td>negative</td>\n",
       "      <td>virginamerica really big bad thing</td>\n",
       "    </tr>\n",
       "  </tbody>\n",
       "</table>\n",
       "</div>"
      ],
      "text/plain": [
       "  airline_sentiment  \\\n",
       "0           neutral   \n",
       "1          positive   \n",
       "2           neutral   \n",
       "3          negative   \n",
       "4          negative   \n",
       "\n",
       "                                                                                        text  \n",
       "0                                                                 virginamerica dhepburn say  \n",
       "1                                        virginamerica plus add commercials experience tacky  \n",
       "2                                       virginamerica today must mean need take another trip  \n",
       "3  virginamerica really aggressive blast obnoxious entertainment guests face little recourse  \n",
       "4                                                         virginamerica really big bad thing  "
      ]
     },
     "execution_count": 27,
     "metadata": {},
     "output_type": "execute_result"
    }
   ],
   "source": [
    "tweets_df['text'] = tweets_df.apply(lambda row: SentenceLevel_PreProcessing(row['text']), axis=1) # Tokenization of data\n",
    "tweets_df['text'] = tweets_df.apply(lambda row: Normalize_words(row['text']), axis=1) # Tokenization of data\n",
    "tweets_df.head(5)"
   ]
  },
  {
   "cell_type": "markdown",
   "id": "received-roots",
   "metadata": {},
   "source": [
    "### Do one hot encoding for the sentiment"
   ]
  },
  {
   "cell_type": "code",
   "execution_count": 28,
   "id": "subsequent-journalism",
   "metadata": {},
   "outputs": [
    {
     "data": {
      "text/html": [
       "<div>\n",
       "<style scoped>\n",
       "    .dataframe tbody tr th:only-of-type {\n",
       "        vertical-align: middle;\n",
       "    }\n",
       "\n",
       "    .dataframe tbody tr th {\n",
       "        vertical-align: top;\n",
       "    }\n",
       "\n",
       "    .dataframe thead th {\n",
       "        text-align: right;\n",
       "    }\n",
       "</style>\n",
       "<table border=\"1\" class=\"dataframe\">\n",
       "  <thead>\n",
       "    <tr style=\"text-align: right;\">\n",
       "      <th></th>\n",
       "      <th>airline_sentiment</th>\n",
       "      <th>text</th>\n",
       "      <th>Sentiment</th>\n",
       "    </tr>\n",
       "  </thead>\n",
       "  <tbody>\n",
       "    <tr>\n",
       "      <th>0</th>\n",
       "      <td>neutral</td>\n",
       "      <td>virginamerica dhepburn say</td>\n",
       "      <td>1</td>\n",
       "    </tr>\n",
       "    <tr>\n",
       "      <th>1</th>\n",
       "      <td>positive</td>\n",
       "      <td>virginamerica plus add commercials experience tacky</td>\n",
       "      <td>2</td>\n",
       "    </tr>\n",
       "    <tr>\n",
       "      <th>2</th>\n",
       "      <td>neutral</td>\n",
       "      <td>virginamerica today must mean need take another trip</td>\n",
       "      <td>1</td>\n",
       "    </tr>\n",
       "    <tr>\n",
       "      <th>3</th>\n",
       "      <td>negative</td>\n",
       "      <td>virginamerica really aggressive blast obnoxious entertainment guests face little recourse</td>\n",
       "      <td>0</td>\n",
       "    </tr>\n",
       "    <tr>\n",
       "      <th>4</th>\n",
       "      <td>negative</td>\n",
       "      <td>virginamerica really big bad thing</td>\n",
       "      <td>0</td>\n",
       "    </tr>\n",
       "    <tr>\n",
       "      <th>...</th>\n",
       "      <td>...</td>\n",
       "      <td>...</td>\n",
       "      <td>...</td>\n",
       "    </tr>\n",
       "    <tr>\n",
       "      <th>14635</th>\n",
       "      <td>positive</td>\n",
       "      <td>americanair thank get different flight chicago</td>\n",
       "      <td>2</td>\n",
       "    </tr>\n",
       "    <tr>\n",
       "      <th>14636</th>\n",
       "      <td>negative</td>\n",
       "      <td>americanair leave minutes late flight warn communication minutes late flight call shitty customer svc</td>\n",
       "      <td>0</td>\n",
       "    </tr>\n",
       "    <tr>\n",
       "      <th>14637</th>\n",
       "      <td>neutral</td>\n",
       "      <td>americanair please bring american airlines blackberry</td>\n",
       "      <td>1</td>\n",
       "    </tr>\n",
       "    <tr>\n",
       "      <th>14638</th>\n",
       "      <td>negative</td>\n",
       "      <td>americanair money change flight answer phone suggestions make commitment</td>\n",
       "      <td>0</td>\n",
       "    </tr>\n",
       "    <tr>\n",
       "      <th>14639</th>\n",
       "      <td>neutral</td>\n",
       "      <td>americanair ppl need know many seat next flight plz put us standby people next flight</td>\n",
       "      <td>1</td>\n",
       "    </tr>\n",
       "  </tbody>\n",
       "</table>\n",
       "<p>14640 rows × 3 columns</p>\n",
       "</div>"
      ],
      "text/plain": [
       "      airline_sentiment  \\\n",
       "0               neutral   \n",
       "1              positive   \n",
       "2               neutral   \n",
       "3              negative   \n",
       "4              negative   \n",
       "...                 ...   \n",
       "14635          positive   \n",
       "14636          negative   \n",
       "14637           neutral   \n",
       "14638          negative   \n",
       "14639           neutral   \n",
       "\n",
       "                                                                                                        text  \\\n",
       "0                                                                                 virginamerica dhepburn say   \n",
       "1                                                        virginamerica plus add commercials experience tacky   \n",
       "2                                                       virginamerica today must mean need take another trip   \n",
       "3                  virginamerica really aggressive blast obnoxious entertainment guests face little recourse   \n",
       "4                                                                         virginamerica really big bad thing   \n",
       "...                                                                                                      ...   \n",
       "14635                                                         americanair thank get different flight chicago   \n",
       "14636  americanair leave minutes late flight warn communication minutes late flight call shitty customer svc   \n",
       "14637                                                  americanair please bring american airlines blackberry   \n",
       "14638                               americanair money change flight answer phone suggestions make commitment   \n",
       "14639                  americanair ppl need know many seat next flight plz put us standby people next flight   \n",
       "\n",
       "       Sentiment  \n",
       "0              1  \n",
       "1              2  \n",
       "2              1  \n",
       "3              0  \n",
       "4              0  \n",
       "...          ...  \n",
       "14635          2  \n",
       "14636          0  \n",
       "14637          1  \n",
       "14638          0  \n",
       "14639          1  \n",
       "\n",
       "[14640 rows x 3 columns]"
      ]
     },
     "execution_count": 28,
     "metadata": {},
     "output_type": "execute_result"
    }
   ],
   "source": [
    "labelencoder = LabelEncoder()\n",
    "tweets_df[\"Sentiment\"] = labelencoder.fit_transform(tweets_df['airline_sentiment'])\n",
    "tweets_df"
   ]
  },
  {
   "cell_type": "markdown",
   "id": "difficult-paintball",
   "metadata": {},
   "source": [
    "### 4.a) Count Vectorization"
   ]
  },
  {
   "cell_type": "code",
   "execution_count": 29,
   "id": "three-thong",
   "metadata": {},
   "outputs": [],
   "source": [
    "data_labels = tweets_df['Sentiment']"
   ]
  },
  {
   "cell_type": "code",
   "execution_count": 30,
   "id": "spectacular-hotel",
   "metadata": {},
   "outputs": [],
   "source": [
    "# Vectorization (Convert text data to numbers).\n",
    "from sklearn.feature_extraction.text import CountVectorizer\n",
    "count_vectorizer = CountVectorizer()\n",
    "data_features    = count_vectorizer.fit_transform(tweets_df['text'])\n",
    "data_features    = data_features.toarray()"
   ]
  },
  {
   "cell_type": "markdown",
   "id": "driven-polish",
   "metadata": {},
   "source": [
    "### Tfidf Vectorizer"
   ]
  },
  {
   "cell_type": "code",
   "execution_count": 31,
   "id": "respective-behavior",
   "metadata": {},
   "outputs": [
    {
     "data": {
      "text/plain": [
       "(14640, 12606)"
      ]
     },
     "execution_count": 31,
     "metadata": {},
     "output_type": "execute_result"
    }
   ],
   "source": [
    "from sklearn.feature_extraction.text import TfidfVectorizer\n",
    "tfid_vectorizer       = TfidfVectorizer()\n",
    "tfid_data_features    = tfid_vectorizer.fit_transform(tweets_df['text'])\n",
    "tfid_data_features    = tfid_data_features.toarray()\n",
    "tfid_data_features.shape"
   ]
  },
  {
   "cell_type": "code",
   "execution_count": 32,
   "id": "critical-covering",
   "metadata": {},
   "outputs": [],
   "source": [
    "from sklearn.ensemble import RandomForestClassifier\n",
    "from sklearn.model_selection import cross_val_score\n",
    "from sklearn.model_selection import train_test_split\n",
    "from sklearn import metrics\n",
    "\n",
    "def Do_Classification(dataFeatures,dataLabels,method):\n",
    "    print(\"----------------------------------------------------------------------------\")\n",
    "    print(\"                            \",method,\"                                      \");\n",
    "    print(\"----------------------------------------------------------------------------\")\n",
    "    \n",
    "    # Split the data\n",
    "    xTrain,xTest,yTrain,yTest = train_test_split(dataFeatures, dataLabels, test_size=0.3, random_state=10)\n",
    "    \n",
    "    # Create random forest classifer and fit the training data\n",
    "    randForest = RandomForestClassifier(n_estimators=25, n_jobs=4)\n",
    "    randForest = randForest.fit(xTrain, yTrain)\n",
    "    \n",
    "    # Get the cross validation score\n",
    "    print(\"Cross val score =  \" , np.mean(cross_val_score(randForest, dataFeatures, dataLabels, cv=10))) \n",
    "    \n",
    "    # Predict the sentiment\n",
    "    predLabels = randForest.predict(xTest)\n",
    "    \n",
    "    # Get the accuracy score\n",
    "    acc = metrics.accuracy_score(yTest,predLabels)\n",
    "    print(\"Accuracy = \" , acc)\n",
    "    \n",
    "    # Classification report\n",
    "    print(classification_report(yTest,predLabels))\n",
    "    \n",
    "    # Get the confusion matrix\n",
    "    confMtx    = confusion_matrix(yTest,predLabels)\n",
    "    \n",
    "    print(\"Confusion Matrix\")    \n",
    "    print(confMtx)\n",
    "    \n",
    "    # Plot the confusion matrix\n",
    "    plot.figure(figsize=(10,10))\n",
    "    sns.heatmap(confMtx, annot=True,  fmt='.2f',  cmap=\"RdPu\")    "
   ]
  },
  {
   "cell_type": "markdown",
   "id": "living-validity",
   "metadata": {},
   "source": [
    "## 5. Fit and evaluate models"
   ]
  },
  {
   "cell_type": "code",
   "execution_count": 33,
   "id": "going-bloom",
   "metadata": {},
   "outputs": [
    {
     "name": "stdout",
     "output_type": "stream",
     "text": [
      "----------------------------------------------------------------------------\n",
      "                             Count Vectorizer                                       \n",
      "----------------------------------------------------------------------------\n",
      "Cross val score =   0.7221994535519125\n",
      "Accuracy =  0.7431693989071039\n",
      "              precision    recall  f1-score   support\n",
      "\n",
      "           0       0.79      0.89      0.84      2731\n",
      "           1       0.58      0.44      0.50       958\n",
      "           2       0.70      0.58      0.63       703\n",
      "\n",
      "    accuracy                           0.74      4392\n",
      "   macro avg       0.69      0.64      0.66      4392\n",
      "weighted avg       0.73      0.74      0.73      4392\n",
      "\n",
      "Confusion Matrix\n",
      "[[2433  208   90]\n",
      " [ 448  421   89]\n",
      " [ 199   94  410]]\n"
     ]
    },
    {
     "data": {
      "image/png": "[encoded data removed]",
      "text/plain": [
       "<Figure size 720x720 with 2 Axes>"
      ]
     },
     "metadata": {
      "needs_background": "light"
     },
     "output_type": "display_data"
    }
   ],
   "source": [
    "Do_Classification(data_features,data_labels,\"Count Vectorizer\")"
   ]
  },
  {
   "cell_type": "code",
   "execution_count": 34,
   "id": "raising-position",
   "metadata": {},
   "outputs": [
    {
     "name": "stdout",
     "output_type": "stream",
     "text": [
      "----------------------------------------------------------------------------\n",
      "                             Tf-Idf Vectorizer                                       \n",
      "----------------------------------------------------------------------------\n",
      "Cross val score =   0.7098360655737704\n",
      "Accuracy =  0.7454462659380692\n",
      "              precision    recall  f1-score   support\n",
      "\n",
      "           0       0.76      0.95      0.84      2731\n",
      "           1       0.64      0.34      0.44       958\n",
      "           2       0.74      0.52      0.61       703\n",
      "\n",
      "    accuracy                           0.75      4392\n",
      "   macro avg       0.72      0.60      0.63      4392\n",
      "weighted avg       0.73      0.75      0.72      4392\n",
      "\n",
      "Confusion Matrix\n",
      "[[2582   93   56]\n",
      " [ 562  326   70]\n",
      " [ 247   90  366]]\n"
     ]
    },
    {
     "data": {
      "image/png": "[encoded data removed]",
      "text/plain": [
       "<Figure size 720x720 with 2 Axes>"
      ]
     },
     "metadata": {
      "needs_background": "light"
     },
     "output_type": "display_data"
    }
   ],
   "source": [
    "Do_Classification(tfid_data_features,data_labels,\"Tf-Idf Vectorizer\")"
   ]
  },
  {
   "cell_type": "markdown",
   "id": "uniform-religion",
   "metadata": {},
   "source": [
    "## Summary\n",
    "\n",
    "#### 1. The text/document should be cleaned up with all the words which does not add any contextual value to it like the punctuations, special characters, special tags, frequently used stop words. Removing all of them and keeping only contextual information is essential to identify the sentiment/classifcation is done during preprocessing.\n",
    "\n",
    "#### 2. Text preprocessing steps are \n",
    "            a) HTML Tags removal - Tags does not add any value to the document and hence can be removed\n",
    "            b) Removing punctuations - Punctuation does not add sentimental values except at few scenarios.Hence removed.\n",
    "            c) Removing contractions - This will help to reduce the dimensionality of the document matrix \n",
    "            d) Removing the numbers if it does not add any value ( some time we may need as feedback involves ratings like 9/10\n",
    "            e) Remvoing the stopwords - Reduces the length of the documents\n",
    "            f) Lemmatizing/Stemming the words which reduces the derivational and inflectional form to their base form.\n",
    "            \n",
    "#### 3. Once we have the clean text, we have to convert them into numbers before feeding them into models to classify. As models works only only on numbers , text input has to be converted into numbers using vectorization techniques. \n",
    "\n",
    "#### 4. Vectorization converts the corpus of text into matrix form. The columns are nothing but the unique words of the cleaned text and the value of matrix changes based on the vectorization method.\n",
    "\n",
    "#### 5.  Count vectorization accounts or assigns equal weight to the words in the document and hence its biased in favor of frequently encountered words and the rare words are ignored.\n",
    "\n",
    "#### 6. Tf-Idf vectorizer accounts the words across all the documents and helps us to deal with penalizing the most frequent words. Words are assigned with weights by counting their number of presence in the documents. Rare words are assigned with higher weightage and frequently used words are penalized with less weightage.\n",
    "\n",
    "#### 7. With both the above vectorization methods, the model is performing well in identifying the negative comments compared to identifying the neutral and positive comments. \n",
    "\n",
    "#### 8. There are more negative tweets than the positive and neutral.\n",
    "\n",
    "#### 9. Accuracy value of count vectorizer is better than  Tf-idf vectorizer .\n",
    "\n",
    "#### 10. Prediction of negative feedback is important here so that airlines can address the issues and improve the customer experience. Tf-idf vectorizer performs better recall values of negative feedback."
   ]
  }
 ],
 "metadata": {
  "kernelspec": {
   "display_name": "Python 3",
   "language": "python",
   "name": "python3"
  },
  "language_info": {
   "codemirror_mode": {
    "name": "ipython",
    "version": 3
   },
   "file_extension": ".py",
   "mimetype": "text/x-python",
   "name": "python",
   "nbconvert_exporter": "python",
   "pygments_lexer": "ipython3",
   "version": "3.6.12"
  }
 },
 "nbformat": 4,
 "nbformat_minor": 5
}
